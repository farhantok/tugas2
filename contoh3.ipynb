{
  "nbformat": 4,
  "nbformat_minor": 0,
  "metadata": {
    "colab": {
      "provenance": [],
      "authorship_tag": "ABX9TyNxXIlnsPlTYVpDm4g1ArGk",
      "include_colab_link": true
    },
    "kernelspec": {
      "name": "python3",
      "display_name": "Python 3"
    },
    "language_info": {
      "name": "python"
    }
  },
  "cells": [
    {
      "cell_type": "markdown",
      "metadata": {
        "id": "view-in-github",
        "colab_type": "text"
      },
      "source": [
        "<a href=\"https://colab.research.google.com/github/farhantok/tugas2/blob/main/contoh3.ipynb\" target=\"_parent\"><img src=\"https://colab.research.google.com/assets/colab-badge.svg\" alt=\"Open In Colab\"/></a>"
      ]
    },
    {
      "cell_type": "code",
      "execution_count": 1,
      "metadata": {
        "colab": {
          "base_uri": "https://localhost:8080/"
        },
        "id": "SAf5XW_mCkm2",
        "outputId": "c3f36588-3995-4a58-b5f1-2193b7743c85"
      },
      "outputs": [
        {
          "output_type": "stream",
          "name": "stdout",
          "text": [
            "Kecepatan Toyota Avanza sekarang: 50 km/jam\n",
            "Kecepatan Toyota Avanza sekarang: 30 km/jam\n"
          ]
        }
      ],
      "source": [
        "class Mobil:\n",
        "    def __init__(self, merek, model):\n",
        "        self.merek = merek\n",
        "        self.model = model\n",
        "        self.kecepatan = 0\n",
        "\n",
        "    def tambah_kecepatan(self, kecepatan):\n",
        "        self.kecepatan += kecepatan\n",
        "        print(f\"Kecepatan {self.merek} {self.model} sekarang: {self.kecepatan} km/jam\")\n",
        "\n",
        "    def rem(self, kecepatan):\n",
        "        self.kecepatan -= kecepatan\n",
        "        if self.kecepatan < 0:\n",
        "            self.kecepatan = 0\n",
        "        print(f\"Kecepatan {self.merek} {self.model} sekarang: {self.kecepatan} km/jam\")\n",
        "\n",
        "# Membuat objek\n",
        "mobil_saya = Mobil(\"Toyota\", \"Avanza\")\n",
        "mobil_saya.tambah_kecepatan(50)\n",
        "mobil_saya.rem(20)"
      ]
    }
  ]
}