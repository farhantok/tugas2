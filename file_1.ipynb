{
  "nbformat": 4,
  "nbformat_minor": 0,
  "metadata": {
    "colab": {
      "provenance": [],
      "authorship_tag": "ABX9TyMUsUf4g+mYgx8B5wHI5iYH",
      "include_colab_link": true
    },
    "kernelspec": {
      "name": "python3",
      "display_name": "Python 3"
    },
    "language_info": {
      "name": "python"
    }
  },
  "cells": [
    {
      "cell_type": "markdown",
      "metadata": {
        "id": "view-in-github",
        "colab_type": "text"
      },
      "source": [
        "<a href=\"https://colab.research.google.com/github/farhantok/tugas2/blob/main/file_1.ipynb\" target=\"_parent\"><img src=\"https://colab.research.google.com/assets/colab-badge.svg\" alt=\"Open In Colab\"/></a>"
      ]
    },
    {
      "cell_type": "code",
      "execution_count": 1,
      "metadata": {
        "colab": {
          "base_uri": "https://localhost:8080/"
        },
        "id": "5UNjaxSpBPaw",
        "outputId": "cd16b440-f391-4d10-90f0-1f7c91fb2471"
      },
      "outputs": [
        {
          "output_type": "stream",
          "name": "stdout",
          "text": [
            "KRS untuk Andi (NIM: 123456):\n",
            "- Matematika\n",
            "- Fisika\n"
          ]
        }
      ],
      "source": [
        "class Mahasiswa:\n",
        "    def __init__(self, nama, nim):\n",
        "        self.nama = nama\n",
        "        self.nim = nim\n",
        "        self.krs = []\n",
        "\n",
        "    def cetak_krs(self):\n",
        "        print(f\"KRS untuk {self.nama} (NIM: {self.nim}):\")\n",
        "        for matkul in self.krs:\n",
        "            print(f\"- {matkul}\")\n",
        "\n",
        "    def tambah_matkul(self, matkul):\n",
        "        self.krs.append(matkul)\n",
        "\n",
        "# Membuat objek\n",
        "mhs = Mahasiswa(\"Andi\", \"123456\")\n",
        "mhs.tambah_matkul(\"Matematika\")\n",
        "mhs.tambah_matkul(\"Fisika\")\n",
        "mhs.cetak_krs()"
      ]
    }
  ]
}