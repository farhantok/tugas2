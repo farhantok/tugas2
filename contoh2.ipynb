{
  "nbformat": 4,
  "nbformat_minor": 0,
  "metadata": {
    "colab": {
      "provenance": [],
      "authorship_tag": "ABX9TyM0BFZfbRHRGifYinkUPlf0",
      "include_colab_link": true
    },
    "kernelspec": {
      "name": "python3",
      "display_name": "Python 3"
    },
    "language_info": {
      "name": "python"
    }
  },
  "cells": [
    {
      "cell_type": "markdown",
      "metadata": {
        "id": "view-in-github",
        "colab_type": "text"
      },
      "source": [
        "<a href=\"https://colab.research.google.com/github/farhantok/tugas2/blob/main/contoh2.ipynb\" target=\"_parent\"><img src=\"https://colab.research.google.com/assets/colab-badge.svg\" alt=\"Open In Colab\"/></a>"
      ]
    },
    {
      "cell_type": "code",
      "execution_count": 1,
      "metadata": {
        "colab": {
          "base_uri": "https://localhost:8080/"
        },
        "id": "AcCj73bxCA6c",
        "outputId": "388aece9-11a7-44ac-af3c-940e535e1b12"
      },
      "outputs": [
        {
          "output_type": "stream",
          "name": "stdout",
          "text": [
            "Luas Lingkaran: 78.54, Keliling Lingkaran: 31.42\n"
          ]
        }
      ],
      "source": [
        "import math\n",
        "\n",
        "class Lingkaran:\n",
        "    def __init__(self, jari_jari):\n",
        "        self.jari_jari = jari_jari\n",
        "\n",
        "    def buat_lingkaran(self):\n",
        "        luas = math.pi * (self.jari_jari ** 2)\n",
        "        keliling = 2 * math.pi * self.jari_jari\n",
        "        return luas, keliling\n",
        "\n",
        "# Membuat objek\n",
        "blt = Lingkaran(5)\n",
        "luas, keliling = blt.buat_lingkaran()\n",
        "print(f\"Luas Lingkaran: {luas:.2f}, Keliling Lingkaran: {keliling:.2f}\")"
      ]
    }
  ]
}