{
  "nbformat": 4,
  "nbformat_minor": 0,
  "metadata": {
    "colab": {
      "provenance": [],
      "authorship_tag": "ABX9TyMjK6jpT8IyOhtEUGgz6rzP",
      "include_colab_link": true
    },
    "kernelspec": {
      "name": "python3",
      "display_name": "Python 3"
    },
    "language_info": {
      "name": "python"
    }
  },
  "cells": [
    {
      "cell_type": "markdown",
      "metadata": {
        "id": "view-in-github",
        "colab_type": "text"
      },
      "source": [
        "<a href=\"https://colab.research.google.com/github/farhantok/tugas2/blob/main/contoh5.ipynb\" target=\"_parent\"><img src=\"https://colab.research.google.com/assets/colab-badge.svg\" alt=\"Open In Colab\"/></a>"
      ]
    },
    {
      "cell_type": "code",
      "execution_count": 1,
      "metadata": {
        "colab": {
          "base_uri": "https://localhost:8080/"
        },
        "id": "olXSKpY8DXsK",
        "outputId": "58e2de8e-0083-4855-8cca-dec814840947"
      },
      "outputs": [
        {
          "output_type": "stream",
          "name": "stdout",
          "text": [
            "Luas Persegi: 16, Keliling Persegi: 16\n"
          ]
        }
      ],
      "source": [
        "class Persegi:\n",
        "    def __init__(self, sisi):\n",
        "        self.sisi = sisi\n",
        "\n",
        "    def hitung_luas(self):\n",
        "        return self.sisi * self.sisi\n",
        "\n",
        "    def hitung_keliling(self):\n",
        "        return 4 * self.sisi\n",
        "\n",
        "# Membuat objek\n",
        "persegi_saya = Persegi(4)\n",
        "luas = persegi_saya.hitung_luas()\n",
        "keliling = persegi_saya.hitung_keliling()\n",
        "\n",
        "print(f\"Luas Persegi: {luas}, Keliling Persegi: {keliling}\")"
      ]
    }
  ]
}