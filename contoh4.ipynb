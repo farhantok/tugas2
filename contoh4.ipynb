{
  "nbformat": 4,
  "nbformat_minor": 0,
  "metadata": {
    "colab": {
      "provenance": [],
      "authorship_tag": "ABX9TyMPgfNKNlIBnUNpnZ9qQcVG",
      "include_colab_link": true
    },
    "kernelspec": {
      "name": "python3",
      "display_name": "Python 3"
    },
    "language_info": {
      "name": "python"
    }
  },
  "cells": [
    {
      "cell_type": "markdown",
      "metadata": {
        "id": "view-in-github",
        "colab_type": "text"
      },
      "source": [
        "<a href=\"https://colab.research.google.com/github/farhantok/tugas2/blob/main/contoh4.ipynb\" target=\"_parent\"><img src=\"https://colab.research.google.com/assets/colab-badge.svg\" alt=\"Open In Colab\"/></a>"
      ]
    },
    {
      "cell_type": "code",
      "execution_count": 2,
      "metadata": {
        "colab": {
          "base_uri": "https://localhost:8080/"
        },
        "id": "_n_02CFZDICQ",
        "outputId": "d95ee197-72c8-4bed-c3c1-cda5efac48fb"
      },
      "outputs": [
        {
          "output_type": "stream",
          "name": "stdout",
          "text": [
            "Kitty bersuara: Meow\n",
            "Buddy bersuara: raww\n"
          ]
        }
      ],
      "source": [
        "class Hewan:\n",
        "    def __init__(self, nama, jenis):\n",
        "        self.nama = nama\n",
        "        self.jenis = jenis\n",
        "\n",
        "    def suara(self):\n",
        "        if self.jenis == \"kucing\":\n",
        "            return \"Meow\"\n",
        "        elif self.jenis == \"anjing\":\n",
        "            return \"raww\"\n",
        "        else:\n",
        "            return \"Suara hewan tidak diketahui\"\n",
        "\n",
        "# Membuat objek\n",
        "kucing = Hewan(\"Kitty\", \"kucing\")\n",
        "anjing = Hewan(\"Buddy\", \"anjing\")\n",
        "\n",
        "print(f\"{kucing.nama} bersuara: {kucing.suara()}\")\n",
        "print(f\"{anjing.nama} bersuara: {anjing.suara()}\")"
      ]
    }
  ]
}